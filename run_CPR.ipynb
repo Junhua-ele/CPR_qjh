{
 "cells": [
  {
   "cell_type": "markdown",
   "metadata": {},
   "source": [
    "## **Set directories**"
   ]
  },
  {
   "cell_type": "code",
   "execution_count": null,
   "metadata": {},
   "outputs": [],
   "source": [
    "import os\n",
    "\n",
    "tools_path = \"./tools\"\n",
    "assert os.path.exists(tools_path), f\"tools path does not exists: {tools_path}\"\n",
    "\n",
    "DATASETS = \"./data\"\n",
    "dtd_path = DATASETS + \"/dtd\"\n",
    "mvtec_path = DATASETS + \"/mvtec\"\n",
    "assert os.path.exists(dtd_path), f\"DTD path does not exists: {dtd_path}\"\n",
    "assert os.path.exists(mvtec_path), f\"MVTEC path does not exists: {mvtec_path}\"\n",
    "\n",
    "OUTPUT_PATH = \"./result\"\n",
    "assert os.path.exists(OUTPUT_PATH), f\"DTD path does not exists: {OUTPUT_PATH}\"\n",
    "\n",
    "\n",
    "print(\"Directories set.\")"
   ]
  },
  {
   "cell_type": "markdown",
   "metadata": {},
   "source": [
    "## **Install the library required**"
   ]
  },
  {
   "cell_type": "code",
   "execution_count": null,
   "metadata": {},
   "outputs": [],
   "source": [
    "%pip install -r {WORKDIR}/requirements.txt"
   ]
  },
  {
   "cell_type": "markdown",
   "metadata": {},
   "source": [
    "## **Generate foreground and global retrieval result**"
   ]
  },
  {
   "cell_type": "code",
   "execution_count": null,
   "metadata": {},
   "outputs": [],
   "source": [
    "!python {tools_path}/generate_foreground.py \\\n",
    "    -lp {OUTPUT_PATH}/foreground \\\n",
    "    --data_dir {DATASETS} \\\n",
    "    --vis\n",
    "\n",
    "!python {tools_path}/generate_retrieval.py \\\n",
    "    -lp {OUTPUT_PATH}/retrieval \\\n",
    "    --data_dir {DATASETS} \\\n",
    "    --vis \\\n",
    "    -k 5\n"
   ]
  },
  {
   "cell_type": "markdown",
   "metadata": {},
   "source": [
    "## **Train**"
   ]
  },
  {
   "cell_type": "markdown",
   "metadata": {},
   "source": [
    "### ***Generate synthetic data***"
   ]
  },
  {
   "cell_type": "code",
   "execution_count": null,
   "metadata": {},
   "outputs": [],
   "source": [
    "!python {tools_path}/generate_synthetic_data.py \\\n",
    "    -fd {OUTPUT_PATH}/foreground \\\n",
    "    -lp {OUTPUT_PATH}/synthetic_mvtec"
   ]
  },
  {
   "cell_type": "markdown",
   "metadata": {},
   "source": [
    "### ***Run***"
   ]
  },
  {
   "cell_type": "markdown",
   "metadata": {},
   "source": [
    "*Please set the OUTPUT_PATH which is same as before*"
   ]
  },
  {
   "cell_type": "code",
   "execution_count": null,
   "metadata": {},
   "outputs": [],
   "source": [
    "%%bash\n",
    "\n",
    "# objects=('bottle' 'cable' 'capsule' 'hazelnut' 'metal_nut' 'pill' 'screw' 'toothbrush' 'transistor' 'zipper')\n",
    "# textures=('carpet' 'grid' 'leather' 'tile' 'wood')\n",
    "objects=('bottle')\n",
    "OUTPUT_PATH=\"./result\"\n",
    "\n",
    "# [10] bottle test result: pro: 0.9593 ap: 0.8097 pixel-auc: 0.9819 image-auc: 1.0000\n",
    "# [20] bottle test result: pro: 0.9619 ap: 0.8193 pixel-auc: 0.9836 image-auc: 1.0000\n",
    "# [50] bottle test result: pro: 0.9701 ap: 0.8754 pixel-auc: 0.9872 image-auc: 1.0000\n",
    "\n",
    "# python train.py -lp log/mvtec_train --sub-categories \"${textures[@]}\" \\\n",
    "# -fd ./log/foreground_mvtec_DenseNet_features.denseblock1_320/ \\\n",
    "# --steps 500 \\\n",
    "# -tps 50 \\\n",
    "# --data-dir log/synthetic_mvtec_640_12000_True_jpg\n",
    "\n",
    "python train.py \\\n",
    "    -lp ${OUTPUT_PATH}/mvtec_train \\\n",
    "    --sub-categories \"${objects[@]}\" \\\n",
    "    -fd ${OUTPUT_PATH}/foreground/ \\\n",
    "    -rd ${OUTPUT_PATH}/retrieval \\\n",
    "    --steps 2 \\\n",
    "    -tps 1 \\\n",
    "    --data-dir ${OUTPUT_PATH}/synthetic_mvtec"
   ]
  },
  {
   "cell_type": "markdown",
   "metadata": {},
   "source": [
    "## **Test**"
   ]
  },
  {
   "cell_type": "code",
   "execution_count": 40,
   "metadata": {},
   "outputs": [
    {
     "name": "stdout",
     "output_type": "stream",
     "text": [
      "INFO:timm.models._builder:Loading pretrained weights from Hugging Face hub (timm/densenet201.tv_in1k)\n",
      "INFO:timm.models._hub:[timm/densenet201.tv_in1k] Safe alternative available for 'pytorch_model.bin' (as 'model.safetensors'). Loading weights using safetensors.\n",
      "=================bottle=================                                        \n",
      "{'pro': 0.9810363054275513, 'ap': 0.9273014068603516, 'pixel-auc': 0.9945597648620605, 'image-auc': 1.0}\n",
      "INFO:timm.models._builder:Loading pretrained weights from Hugging Face hub (timm/densenet201.tv_in1k)\n",
      "INFO:timm.models._hub:[timm/densenet201.tv_in1k] Safe alternative available for 'pytorch_model.bin' (as 'model.safetensors'). Loading weights using safetensors.\n",
      "=================cable=================                                         \n",
      "{'pro': 0.9502972960472107, 'ap': 0.8437099456787109, 'pixel-auc': 0.9933884143829346, 'image-auc': 0.9930659532546997}\n",
      "INFO:timm.models._builder:Loading pretrained weights from Hugging Face hub (timm/densenet201.tv_in1k)\n",
      "INFO:timm.models._hub:[timm/densenet201.tv_in1k] Safe alternative available for 'pytorch_model.bin' (as 'model.safetensors'). Loading weights using safetensors.\n",
      "=================capsule=================                                       \n",
      "{'pro': 0.962770402431488, 'ap': 0.6004751324653625, 'pixel-auc': 0.9926285147666931, 'image-auc': 0.9944156408309937}\n",
      "INFO:timm.models._builder:Loading pretrained weights from Hugging Face hub (timm/densenet201.tv_in1k)\n",
      "INFO:timm.models._hub:[timm/densenet201.tv_in1k] Safe alternative available for 'pytorch_model.bin' (as 'model.safetensors'). Loading weights using safetensors.\n",
      "Traceback (most recent call last):                                              \n",
      "  File \"/home/qjh/CPR-master/test.py\", line 183, in <module>\n",
      "    main(args)\n",
      "  File \"/home/qjh/CPR-master/test.py\", line 174, in main\n",
      "    ret = test(model, train_fns, test_fns, retrieval_result, foreground_result, args.resize, args.region_sizes, root_dir, args.k_nearest, args.T, vis_dir)\n",
      "  File \"/home/qjh/anaconda3/envs/cpr/lib/python3.9/site-packages/torch/utils/_contextlib.py\", line 116, in decorate_context\n",
      "    return func(*args, **kwargs)\n",
      "  File \"/home/qjh/CPR-master/test.py\", line 90, in test\n",
      "    dist = (1 - (features[:, :, None] * region_features).sum(1))  # b x r^2 x h x w\n",
      "torch.OutOfMemoryError: CUDA out of memory. Tried to allocate 844.00 MiB. GPU 0 has a total capacity of 5.80 GiB of which 677.12 MiB is free. Including non-PyTorch memory, this process has 5.12 GiB memory in use. Of the allocated memory 4.20 GiB is allocated by PyTorch, and 856.28 MiB is reserved by PyTorch but unallocated. If reserved but unallocated memory is large try setting PYTORCH_CUDA_ALLOC_CONF=expandable_segments:True to avoid fragmentation.  See documentation for Memory Management  (https://pytorch.org/docs/stable/notes/cuda.html#environment-variables)\n"
     ]
    }
   ],
   "source": [
    "!python test.py \\\n",
    "    -lp result/mvtec_test \\\n",
    "    -fd result/foreground/ \\\n",
    "    -rd result/retrieval \\\n",
    "    --checkpoints weights/{category}.pth"
   ]
  }
 ],
 "metadata": {
  "kernelspec": {
   "display_name": "cpr",
   "language": "python",
   "name": "python3"
  },
  "language_info": {
   "codemirror_mode": {
    "name": "ipython",
    "version": 3
   },
   "file_extension": ".py",
   "mimetype": "text/x-python",
   "name": "python",
   "nbconvert_exporter": "python",
   "pygments_lexer": "ipython3",
   "version": "3.9.21"
  }
 },
 "nbformat": 4,
 "nbformat_minor": 2
}
