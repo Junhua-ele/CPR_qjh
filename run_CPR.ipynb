{
 "cells": [
  {
   "cell_type": "markdown",
   "metadata": {},
   "source": [
    "## **Set directories**"
   ]
  },
  {
   "cell_type": "code",
   "execution_count": null,
   "metadata": {},
   "outputs": [],
   "source": [
    "import os\n",
    "\n",
    "tools_path = \"./tools\"\n",
    "assert os.path.exists(tools_path), f\"tools path does not exists: {tools_path}\"\n",
    "\n",
    "DATASETS = \"./data\"\n",
    "dtd_path = DATASETS + \"/dtd\"\n",
    "mvtec_path = DATASETS + \"/mvtec\"\n",
    "assert os.path.exists(dtd_path), f\"DTD path does not exists: {dtd_path}\"\n",
    "assert os.path.exists(mvtec_path), f\"MVTEC path does not exists: {mvtec_path}\"\n",
    "\n",
    "OUTPUT_PATH = \"./result\"\n",
    "assert os.path.exists(OUTPUT_PATH), f\"DTD path does not exists: {OUTPUT_PATH}\"\n",
    "\n",
    "\n",
    "print(\"Directories set.\")"
   ]
  },
  {
   "cell_type": "markdown",
   "metadata": {},
   "source": [
    "## **Install the library required**"
   ]
  },
  {
   "cell_type": "code",
   "execution_count": null,
   "metadata": {},
   "outputs": [],
   "source": [
    "%pip install -r {WORKDIR}/requirements.txt"
   ]
  },
  {
   "cell_type": "markdown",
   "metadata": {},
   "source": [
    "## **Generate foreground and global retrieval result**"
   ]
  },
  {
   "cell_type": "code",
   "execution_count": null,
   "metadata": {},
   "outputs": [],
   "source": [
    "!python {tools_path}/generate_foreground.py \\\n",
    "    -lp {OUTPUT_PATH}/foreground \\\n",
    "    --data_dir {DATASETS} \\\n",
    "    --vis\n",
    "\n",
    "!python {tools_path}/generate_retrieval.py \\\n",
    "    -lp {OUTPUT_PATH}/retrieval \\\n",
    "    --data_dir {DATASETS} \\\n",
    "    --vis \\\n",
    "    -k 5\n"
   ]
  },
  {
   "cell_type": "markdown",
   "metadata": {},
   "source": [
    "## **Train**"
   ]
  },
  {
   "cell_type": "markdown",
   "metadata": {},
   "source": [
    "### ***Generate synthetic data***"
   ]
  },
  {
   "cell_type": "code",
   "execution_count": null,
   "metadata": {},
   "outputs": [],
   "source": [
    "!python {tools_path}/generate_synthetic_data.py \\\n",
    "    -fd {OUTPUT_PATH}/foreground \\\n",
    "    -lp {OUTPUT_PATH}/synthetic_mvtec"
   ]
  },
  {
   "cell_type": "markdown",
   "metadata": {},
   "source": [
    "### ***Run***"
   ]
  },
  {
   "cell_type": "markdown",
   "metadata": {},
   "source": [
    "*Please set the OUTPUT_PATH which is same as before*"
   ]
  },
  {
   "cell_type": "code",
   "execution_count": null,
   "metadata": {},
   "outputs": [],
   "source": [
    "%%bash\n",
    "\n",
    "# objects=('bottle' 'cable' 'capsule' 'hazelnut' 'metal_nut' 'pill' 'screw' 'toothbrush' 'transistor' 'zipper')\n",
    "# textures=('carpet' 'grid' 'leather' 'tile' 'wood')\n",
    "objects=('bottle')\n",
    "OUTPUT_PATH=\"./result\"\n",
    "\n",
    "# [10] bottle test result: pro: 0.9593 ap: 0.8097 pixel-auc: 0.9819 image-auc: 1.0000\n",
    "# [20] bottle test result: pro: 0.9619 ap: 0.8193 pixel-auc: 0.9836 image-auc: 1.0000\n",
    "# [50] bottle test result: pro: 0.9701 ap: 0.8754 pixel-auc: 0.9872 image-auc: 1.0000\n",
    "\n",
    "# python train.py -lp log/mvtec_train --sub-categories \"${textures[@]}\" \\\n",
    "# -fd ./log/foreground_mvtec_DenseNet_features.denseblock1_320/ \\\n",
    "# --steps 500 \\\n",
    "# -tps 50 \\\n",
    "# --data-dir log/synthetic_mvtec_640_12000_True_jpg\n",
    "\n",
    "python train.py \\\n",
    "    -lp ${OUTPUT_PATH}/mvtec_train \\\n",
    "    --sub-categories \"${objects[@]}\" \\\n",
    "    -fd ${OUTPUT_PATH}/foreground/ \\\n",
    "    -rd ${OUTPUT_PATH}/retrieval \\\n",
    "    --steps 2 \\\n",
    "    -tps 1 \\\n",
    "    --data-dir ${OUTPUT_PATH}/synthetic_mvtec"
   ]
  },
  {
   "cell_type": "markdown",
   "metadata": {},
   "source": [
    "## **Test**"
   ]
  },
  {
   "cell_type": "code",
   "execution_count": null,
   "metadata": {},
   "outputs": [],
   "source": [
    "!python test.py \\\n",
    "    -lp result/mvtec_test \\\n",
    "    -fd result/foreground/ \\\n",
    "    -rd result/retrieval \\\n",
    "    --checkpoints weights/{category}.pth"
   ]
  },
  {
   "cell_type": "markdown",
   "metadata": {},
   "source": [
    "## **Open the mlflow ui**"
   ]
  },
  {
   "cell_type": "code",
   "execution_count": null,
   "metadata": {},
   "outputs": [],
   "source": [
    "import mlflow\n",
    "\n",
    "!mlflow ui --backend-store-uri file:'./mlruns' "
   ]
  }
 ],
 "metadata": {
  "kernelspec": {
   "display_name": "cpr",
   "language": "python",
   "name": "python3"
  },
  "language_info": {
   "codemirror_mode": {
    "name": "ipython",
    "version": 3
   },
   "file_extension": ".py",
   "mimetype": "text/x-python",
   "name": "python",
   "nbconvert_exporter": "python",
   "pygments_lexer": "ipython3",
   "version": "3.9.21"
  }
 },
 "nbformat": 4,
 "nbformat_minor": 2
}
